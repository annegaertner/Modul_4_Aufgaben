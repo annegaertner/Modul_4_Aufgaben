{
 "cells": [
  {
   "cell_type": "markdown",
   "id": "7c12de97",
   "metadata": {},
   "source": [
    "## Seattle Library - Datenanalyse\n",
    "\n",
    "Datasets:\n",
    "- [Checkouts by Title](https://dev.socrata.com/foundry/data.seattle.gov/tmmm-ytt6)\n",
    "- [Library Collection Inventory](https://data.seattle.gov/Community/Library-Collection-Inventory/6vkj-f5xf)  \n",
    "\n",
    "API-Dokumentation:\n",
    "- Paging through Data https://dev.socrata.com/docs/queries/\n",
    "- Queries using SODA https://dev.socrata.com/docs/paging.html"
   ]
  },
  {
   "cell_type": "code",
   "execution_count": 1,
   "id": "5c5a016e",
   "metadata": {},
   "outputs": [],
   "source": [
    "import urllib.request\n",
    "import pandas as pd"
   ]
  },
  {
   "cell_type": "markdown",
   "id": "a22912e3",
   "metadata": {},
   "source": [
    "### Checkout-Daten über die API beziehen und als CSV-Datei speichern"
   ]
  },
  {
   "cell_type": "code",
   "execution_count": 2,
   "id": "d3027f77",
   "metadata": {},
   "outputs": [
    {
     "data": {
      "text/plain": [
       "('checkout.csv', <http.client.HTTPMessage at 0x23d74a706d0>)"
      ]
     },
     "execution_count": 2,
     "metadata": {},
     "output_type": "execute_result"
    }
   ],
   "source": [
    "url = \"https://data.seattle.gov/resource/tmmm-ytt6.csv?$where=checkoutyear=2018&$limit=10000\"\n",
    "checkout_file = \"checkout.csv\"\n",
    "urllib.request.urlretrieve(url, checkout_file)"
   ]
  },
  {
   "cell_type": "markdown",
   "id": "b9fcda4d",
   "metadata": {},
   "source": [
    "### In einen DataFrame laden und analysieren"
   ]
  },
  {
   "cell_type": "code",
   "execution_count": 3,
   "id": "e0983027",
   "metadata": {},
   "outputs": [],
   "source": [
    "checkouts_df = pd.read_csv(checkout_file)"
   ]
  },
  {
   "cell_type": "code",
   "execution_count": 4,
   "id": "b2ba549c",
   "metadata": {},
   "outputs": [
    {
     "data": {
      "text/html": [
       "<div>\n",
       "<style scoped>\n",
       "    .dataframe tbody tr th:only-of-type {\n",
       "        vertical-align: middle;\n",
       "    }\n",
       "\n",
       "    .dataframe tbody tr th {\n",
       "        vertical-align: top;\n",
       "    }\n",
       "\n",
       "    .dataframe thead th {\n",
       "        text-align: right;\n",
       "    }\n",
       "</style>\n",
       "<table border=\"1\" class=\"dataframe\">\n",
       "  <thead>\n",
       "    <tr style=\"text-align: right;\">\n",
       "      <th></th>\n",
       "      <th>usageclass</th>\n",
       "      <th>checkouttype</th>\n",
       "      <th>materialtype</th>\n",
       "      <th>checkoutyear</th>\n",
       "      <th>checkoutmonth</th>\n",
       "      <th>checkouts</th>\n",
       "      <th>title</th>\n",
       "      <th>isbn</th>\n",
       "      <th>creator</th>\n",
       "      <th>subjects</th>\n",
       "      <th>publisher</th>\n",
       "      <th>publicationyear</th>\n",
       "    </tr>\n",
       "  </thead>\n",
       "  <tbody>\n",
       "    <tr>\n",
       "      <th>0</th>\n",
       "      <td>Digital</td>\n",
       "      <td>OverDrive</td>\n",
       "      <td>EBOOK</td>\n",
       "      <td>2018</td>\n",
       "      <td>1</td>\n",
       "      <td>22</td>\n",
       "      <td>Enemy of the State</td>\n",
       "      <td>NaN</td>\n",
       "      <td>Vince Flynn</td>\n",
       "      <td>Fiction, Literature, Thriller</td>\n",
       "      <td>Simon &amp; Schuster, Inc.</td>\n",
       "      <td>2017</td>\n",
       "    </tr>\n",
       "    <tr>\n",
       "      <th>1</th>\n",
       "      <td>Digital</td>\n",
       "      <td>Hoopla</td>\n",
       "      <td>TELEVISION</td>\n",
       "      <td>2018</td>\n",
       "      <td>1</td>\n",
       "      <td>1</td>\n",
       "      <td>Newspaper Mom / Cucumber in Rio / Donut Raffle</td>\n",
       "      <td>NaN</td>\n",
       "      <td>NaN</td>\n",
       "      <td>Children's</td>\n",
       "      <td>DHX Media</td>\n",
       "      <td>NaN</td>\n",
       "    </tr>\n",
       "    <tr>\n",
       "      <th>2</th>\n",
       "      <td>Physical</td>\n",
       "      <td>Horizon</td>\n",
       "      <td>SOUNDDISC</td>\n",
       "      <td>2018</td>\n",
       "      <td>1</td>\n",
       "      <td>1</td>\n",
       "      <td>Mono / the Mavericks.</td>\n",
       "      <td>NaN</td>\n",
       "      <td>Mavericks (Musical group)</td>\n",
       "      <td>Country music 2011 2020</td>\n",
       "      <td>Valory,</td>\n",
       "      <td>[2015]</td>\n",
       "    </tr>\n",
       "    <tr>\n",
       "      <th>3</th>\n",
       "      <td>Digital</td>\n",
       "      <td>OverDrive</td>\n",
       "      <td>EBOOK</td>\n",
       "      <td>2018</td>\n",
       "      <td>1</td>\n",
       "      <td>2</td>\n",
       "      <td>Anna Karenina</td>\n",
       "      <td>NaN</td>\n",
       "      <td>Leo Tolstoy</td>\n",
       "      <td>Classic Literature, Fiction, Literature</td>\n",
       "      <td>Penguin Group (USA), Inc.</td>\n",
       "      <td>2009</td>\n",
       "    </tr>\n",
       "    <tr>\n",
       "      <th>4</th>\n",
       "      <td>Digital</td>\n",
       "      <td>OverDrive</td>\n",
       "      <td>EBOOK</td>\n",
       "      <td>2018</td>\n",
       "      <td>1</td>\n",
       "      <td>1</td>\n",
       "      <td>Dragon: Vlad Series, Book 8</td>\n",
       "      <td>NaN</td>\n",
       "      <td>Steven Brust</td>\n",
       "      <td>Fantasy, Fiction</td>\n",
       "      <td>Macmillan Publishers</td>\n",
       "      <td>2015</td>\n",
       "    </tr>\n",
       "    <tr>\n",
       "      <th>...</th>\n",
       "      <td>...</td>\n",
       "      <td>...</td>\n",
       "      <td>...</td>\n",
       "      <td>...</td>\n",
       "      <td>...</td>\n",
       "      <td>...</td>\n",
       "      <td>...</td>\n",
       "      <td>...</td>\n",
       "      <td>...</td>\n",
       "      <td>...</td>\n",
       "      <td>...</td>\n",
       "      <td>...</td>\n",
       "    </tr>\n",
       "    <tr>\n",
       "      <th>9995</th>\n",
       "      <td>Digital</td>\n",
       "      <td>OverDrive</td>\n",
       "      <td>EBOOK</td>\n",
       "      <td>2018</td>\n",
       "      <td>1</td>\n",
       "      <td>1</td>\n",
       "      <td>Immortal: Fallen Angels Series, Book 6</td>\n",
       "      <td>NaN</td>\n",
       "      <td>J.R. Ward</td>\n",
       "      <td>Fantasy, Fiction, Romance</td>\n",
       "      <td>Penguin Group (USA), Inc.</td>\n",
       "      <td>2014</td>\n",
       "    </tr>\n",
       "    <tr>\n",
       "      <th>9996</th>\n",
       "      <td>Digital</td>\n",
       "      <td>OverDrive</td>\n",
       "      <td>EBOOK</td>\n",
       "      <td>2018</td>\n",
       "      <td>1</td>\n",
       "      <td>1</td>\n",
       "      <td>The Price of Silence</td>\n",
       "      <td>NaN</td>\n",
       "      <td>Kate Wilhelm</td>\n",
       "      <td>Fiction, Suspense, Thriller</td>\n",
       "      <td>Harlequin Enterprises, Ltd.</td>\n",
       "      <td>2011</td>\n",
       "    </tr>\n",
       "    <tr>\n",
       "      <th>9997</th>\n",
       "      <td>Digital</td>\n",
       "      <td>Freegal</td>\n",
       "      <td>SONG</td>\n",
       "      <td>2018</td>\n",
       "      <td>1</td>\n",
       "      <td>1</td>\n",
       "      <td>Desert Hideaway</td>\n",
       "      <td>NaN</td>\n",
       "      <td>NaN</td>\n",
       "      <td>NaN</td>\n",
       "      <td>NaN</td>\n",
       "      <td>NaN</td>\n",
       "    </tr>\n",
       "    <tr>\n",
       "      <th>9998</th>\n",
       "      <td>Physical</td>\n",
       "      <td>Horizon</td>\n",
       "      <td>BOOK</td>\n",
       "      <td>2018</td>\n",
       "      <td>1</td>\n",
       "      <td>3</td>\n",
       "      <td>Waistcoats &amp; weaponry / Gail Carriger.</td>\n",
       "      <td>NaN</td>\n",
       "      <td>Carriger, Gail</td>\n",
       "      <td>Boarding schools Fiction, Schools Fiction, Eti...</td>\n",
       "      <td>Little, Brown and Company,</td>\n",
       "      <td>2014.</td>\n",
       "    </tr>\n",
       "    <tr>\n",
       "      <th>9999</th>\n",
       "      <td>Physical</td>\n",
       "      <td>Horizon</td>\n",
       "      <td>SOUNDDISC</td>\n",
       "      <td>2018</td>\n",
       "      <td>1</td>\n",
       "      <td>1</td>\n",
       "      <td>Red moon rising : [Sputnik and the hidden riva...</td>\n",
       "      <td>NaN</td>\n",
       "      <td>Brzezinski, Matthew, 1965-</td>\n",
       "      <td>Space race United States History 20th century,...</td>\n",
       "      <td>HighBridge,</td>\n",
       "      <td>[2007]</td>\n",
       "    </tr>\n",
       "  </tbody>\n",
       "</table>\n",
       "<p>10000 rows × 12 columns</p>\n",
       "</div>"
      ],
      "text/plain": [
       "     usageclass checkouttype materialtype  checkoutyear  checkoutmonth  \\\n",
       "0       Digital    OverDrive        EBOOK          2018              1   \n",
       "1       Digital       Hoopla   TELEVISION          2018              1   \n",
       "2      Physical      Horizon    SOUNDDISC          2018              1   \n",
       "3       Digital    OverDrive        EBOOK          2018              1   \n",
       "4       Digital    OverDrive        EBOOK          2018              1   \n",
       "...         ...          ...          ...           ...            ...   \n",
       "9995    Digital    OverDrive        EBOOK          2018              1   \n",
       "9996    Digital    OverDrive        EBOOK          2018              1   \n",
       "9997    Digital      Freegal         SONG          2018              1   \n",
       "9998   Physical      Horizon         BOOK          2018              1   \n",
       "9999   Physical      Horizon    SOUNDDISC          2018              1   \n",
       "\n",
       "      checkouts                                              title  isbn  \\\n",
       "0            22                                 Enemy of the State   NaN   \n",
       "1             1     Newspaper Mom / Cucumber in Rio / Donut Raffle   NaN   \n",
       "2             1                              Mono / the Mavericks.   NaN   \n",
       "3             2                                      Anna Karenina   NaN   \n",
       "4             1                        Dragon: Vlad Series, Book 8   NaN   \n",
       "...         ...                                                ...   ...   \n",
       "9995          1             Immortal: Fallen Angels Series, Book 6   NaN   \n",
       "9996          1                               The Price of Silence   NaN   \n",
       "9997          1                                    Desert Hideaway   NaN   \n",
       "9998          3             Waistcoats & weaponry / Gail Carriger.   NaN   \n",
       "9999          1  Red moon rising : [Sputnik and the hidden riva...   NaN   \n",
       "\n",
       "                         creator  \\\n",
       "0                    Vince Flynn   \n",
       "1                            NaN   \n",
       "2      Mavericks (Musical group)   \n",
       "3                    Leo Tolstoy   \n",
       "4                   Steven Brust   \n",
       "...                          ...   \n",
       "9995                   J.R. Ward   \n",
       "9996                Kate Wilhelm   \n",
       "9997                         NaN   \n",
       "9998              Carriger, Gail   \n",
       "9999  Brzezinski, Matthew, 1965-   \n",
       "\n",
       "                                               subjects  \\\n",
       "0                         Fiction, Literature, Thriller   \n",
       "1                                            Children's   \n",
       "2                               Country music 2011 2020   \n",
       "3               Classic Literature, Fiction, Literature   \n",
       "4                                      Fantasy, Fiction   \n",
       "...                                                 ...   \n",
       "9995                          Fantasy, Fiction, Romance   \n",
       "9996                        Fiction, Suspense, Thriller   \n",
       "9997                                                NaN   \n",
       "9998  Boarding schools Fiction, Schools Fiction, Eti...   \n",
       "9999  Space race United States History 20th century,...   \n",
       "\n",
       "                        publisher publicationyear  \n",
       "0          Simon & Schuster, Inc.            2017  \n",
       "1                       DHX Media             NaN  \n",
       "2                         Valory,          [2015]  \n",
       "3       Penguin Group (USA), Inc.            2009  \n",
       "4            Macmillan Publishers            2015  \n",
       "...                           ...             ...  \n",
       "9995    Penguin Group (USA), Inc.            2014  \n",
       "9996  Harlequin Enterprises, Ltd.            2011  \n",
       "9997                          NaN             NaN  \n",
       "9998   Little, Brown and Company,           2014.  \n",
       "9999                  HighBridge,          [2007]  \n",
       "\n",
       "[10000 rows x 12 columns]"
      ]
     },
     "execution_count": 4,
     "metadata": {},
     "output_type": "execute_result"
    }
   ],
   "source": [
    "checkouts_df"
   ]
  },
  {
   "cell_type": "code",
   "execution_count": 5,
   "id": "a58d782d",
   "metadata": {},
   "outputs": [
    {
     "data": {
      "text/plain": [
       "(10000, 12)"
      ]
     },
     "execution_count": 5,
     "metadata": {},
     "output_type": "execute_result"
    }
   ],
   "source": [
    "# Result: Interesting. Compared to Rabeas output I received one additional column (\"isbn\"). The data seems to have changed sind Rabea did her analysis?!\n",
    "checkouts_df.shape"
   ]
  },
  {
   "cell_type": "code",
   "execution_count": 6,
   "id": "ad93c99c",
   "metadata": {},
   "outputs": [
    {
     "data": {
      "text/plain": [
       "array([ 1,  2,  3,  4,  5,  8,  9, 10, 11, 12], dtype=int64)"
      ]
     },
     "execution_count": 6,
     "metadata": {},
     "output_type": "execute_result"
    }
   ],
   "source": [
    "# Result: I also received a different output regarding the checkoutmonth which is 1 (= January) in my case.\n",
    "# I assume that the following code shows the existing values in \"checkoutmonth\" which are all possible months in my case.\n",
    "\n",
    "checkouts_df[\"checkoutmonth\"].unique()"
   ]
  },
  {
   "cell_type": "markdown",
   "id": "13172d4b",
   "metadata": {},
   "source": [
    "### Replikation des Codes aus Rabeas Notebook"
   ]
  },
  {
   "cell_type": "code",
   "execution_count": 7,
   "id": "dd5f7cf9",
   "metadata": {},
   "outputs": [
    {
     "data": {
      "text/plain": [
       "540"
      ]
     },
     "execution_count": 7,
     "metadata": {},
     "output_type": "execute_result"
    }
   ],
   "source": [
    "checkouts_df[\"checkouts\"].max()"
   ]
  },
  {
   "cell_type": "code",
   "execution_count": 8,
   "id": "0321945c",
   "metadata": {},
   "outputs": [
    {
     "data": {
      "text/plain": [
       "1"
      ]
     },
     "execution_count": 8,
     "metadata": {},
     "output_type": "execute_result"
    }
   ],
   "source": [
    "checkouts_df[\"checkouts\"].min()"
   ]
  },
  {
   "cell_type": "code",
   "execution_count": 9,
   "id": "f9eb07f5",
   "metadata": {},
   "outputs": [
    {
     "data": {
      "text/plain": [
       "1.0"
      ]
     },
     "execution_count": 9,
     "metadata": {},
     "output_type": "execute_result"
    }
   ],
   "source": [
    "checkouts_df[\"checkouts\"].median()"
   ]
  },
  {
   "cell_type": "code",
   "execution_count": 10,
   "id": "2821a34e",
   "metadata": {},
   "outputs": [
    {
     "data": {
      "text/plain": [
       "3.3392"
      ]
     },
     "execution_count": 10,
     "metadata": {},
     "output_type": "execute_result"
    }
   ],
   "source": [
    "checkouts_df[\"checkouts\"].mean()"
   ]
  },
  {
   "cell_type": "code",
   "execution_count": 11,
   "id": "7f054e7b",
   "metadata": {},
   "outputs": [
    {
     "data": {
      "text/plain": [
       "array(['Digital', 'Physical'], dtype=object)"
      ]
     },
     "execution_count": 11,
     "metadata": {},
     "output_type": "execute_result"
    }
   ],
   "source": [
    "checkouts_df[\"usageclass\"].unique()"
   ]
  },
  {
   "cell_type": "code",
   "execution_count": 12,
   "id": "839e6a50",
   "metadata": {},
   "outputs": [
    {
     "data": {
      "text/plain": [
       "array(['EBOOK', 'TELEVISION', 'SOUNDDISC', 'BOOK', 'AUDIOBOOK', 'COMIC',\n",
       "       'MOVIE', 'SONG', 'MUSIC', 'MAGAZINE', 'VIDEODISC', 'SOUNDREC',\n",
       "       'SOUNDDISC, VIDEODISC', 'CR', 'LARGEPRINT', 'ER, SOUNDDISC',\n",
       "       'ATLAS', 'ER', 'MAP', 'VIDEOCASS, VIDEODISC', 'REGPRINT', 'VIDEO',\n",
       "       'SOUNDCASS', 'ER, VIDEODISC'], dtype=object)"
      ]
     },
     "execution_count": 12,
     "metadata": {},
     "output_type": "execute_result"
    }
   ],
   "source": [
    "checkouts_df[\"materialtype\"].unique()"
   ]
  },
  {
   "cell_type": "code",
   "execution_count": 13,
   "id": "9470c79d",
   "metadata": {},
   "outputs": [
    {
     "data": {
      "text/html": [
       "<div>\n",
       "<style scoped>\n",
       "    .dataframe tbody tr th:only-of-type {\n",
       "        vertical-align: middle;\n",
       "    }\n",
       "\n",
       "    .dataframe tbody tr th {\n",
       "        vertical-align: top;\n",
       "    }\n",
       "\n",
       "    .dataframe thead th {\n",
       "        text-align: right;\n",
       "    }\n",
       "</style>\n",
       "<table border=\"1\" class=\"dataframe\">\n",
       "  <thead>\n",
       "    <tr style=\"text-align: right;\">\n",
       "      <th></th>\n",
       "      <th>usageclass</th>\n",
       "      <th>checkouttype</th>\n",
       "      <th>materialtype</th>\n",
       "      <th>checkoutyear</th>\n",
       "      <th>checkoutmonth</th>\n",
       "      <th>checkouts</th>\n",
       "      <th>title</th>\n",
       "      <th>isbn</th>\n",
       "      <th>creator</th>\n",
       "      <th>subjects</th>\n",
       "      <th>publisher</th>\n",
       "      <th>publicationyear</th>\n",
       "    </tr>\n",
       "  </thead>\n",
       "  <tbody>\n",
       "    <tr>\n",
       "      <th>9</th>\n",
       "      <td>Digital</td>\n",
       "      <td>OverDrive</td>\n",
       "      <td>AUDIOBOOK</td>\n",
       "      <td>2018</td>\n",
       "      <td>2</td>\n",
       "      <td>1</td>\n",
       "      <td>Cleopatra (Unabridged)</td>\n",
       "      <td>NaN</td>\n",
       "      <td>H. Rider Haggard</td>\n",
       "      <td>Fiction, Literature</td>\n",
       "      <td>Blackstone Audio, Inc.</td>\n",
       "      <td>2008</td>\n",
       "    </tr>\n",
       "    <tr>\n",
       "      <th>12</th>\n",
       "      <td>Digital</td>\n",
       "      <td>OverDrive</td>\n",
       "      <td>AUDIOBOOK</td>\n",
       "      <td>2018</td>\n",
       "      <td>2</td>\n",
       "      <td>20</td>\n",
       "      <td>Matilda (Unabridged)</td>\n",
       "      <td>NaN</td>\n",
       "      <td>Roald Dahl</td>\n",
       "      <td>Fantasy, Juvenile Fiction</td>\n",
       "      <td>Books on Tape</td>\n",
       "      <td>2014</td>\n",
       "    </tr>\n",
       "    <tr>\n",
       "      <th>14</th>\n",
       "      <td>Digital</td>\n",
       "      <td>OverDrive</td>\n",
       "      <td>AUDIOBOOK</td>\n",
       "      <td>2018</td>\n",
       "      <td>2</td>\n",
       "      <td>4</td>\n",
       "      <td>The Power of Sleep (Unabridged)</td>\n",
       "      <td>NaN</td>\n",
       "      <td>Kelly Howell</td>\n",
       "      <td>Nonfiction, Self-Improvement</td>\n",
       "      <td>Books on Tape</td>\n",
       "      <td>2008</td>\n",
       "    </tr>\n",
       "    <tr>\n",
       "      <th>16</th>\n",
       "      <td>Digital</td>\n",
       "      <td>OverDrive</td>\n",
       "      <td>AUDIOBOOK</td>\n",
       "      <td>2018</td>\n",
       "      <td>2</td>\n",
       "      <td>3</td>\n",
       "      <td>Phantom Instinct (Unabridged)</td>\n",
       "      <td>NaN</td>\n",
       "      <td>Meg Gardiner</td>\n",
       "      <td>Fiction, Mystery</td>\n",
       "      <td>Blackstone Audio, Inc.</td>\n",
       "      <td>2014</td>\n",
       "    </tr>\n",
       "    <tr>\n",
       "      <th>39</th>\n",
       "      <td>Digital</td>\n",
       "      <td>OverDrive</td>\n",
       "      <td>AUDIOBOOK</td>\n",
       "      <td>2018</td>\n",
       "      <td>4</td>\n",
       "      <td>1</td>\n",
       "      <td>The Vaults (Unabridged)</td>\n",
       "      <td>NaN</td>\n",
       "      <td>Toby Ball</td>\n",
       "      <td>Fiction, Mystery</td>\n",
       "      <td>Iambik Audio</td>\n",
       "      <td>2014</td>\n",
       "    </tr>\n",
       "    <tr>\n",
       "      <th>...</th>\n",
       "      <td>...</td>\n",
       "      <td>...</td>\n",
       "      <td>...</td>\n",
       "      <td>...</td>\n",
       "      <td>...</td>\n",
       "      <td>...</td>\n",
       "      <td>...</td>\n",
       "      <td>...</td>\n",
       "      <td>...</td>\n",
       "      <td>...</td>\n",
       "      <td>...</td>\n",
       "      <td>...</td>\n",
       "    </tr>\n",
       "    <tr>\n",
       "      <th>9938</th>\n",
       "      <td>Digital</td>\n",
       "      <td>OverDrive</td>\n",
       "      <td>AUDIOBOOK</td>\n",
       "      <td>2018</td>\n",
       "      <td>1</td>\n",
       "      <td>7</td>\n",
       "      <td>Legacy of Ashes: The History of the CIA (unabr...</td>\n",
       "      <td>NaN</td>\n",
       "      <td>Tim Weiner</td>\n",
       "      <td>History, Nonfiction</td>\n",
       "      <td>Blackstone Audio, Inc.</td>\n",
       "      <td>2007</td>\n",
       "    </tr>\n",
       "    <tr>\n",
       "      <th>9939</th>\n",
       "      <td>Digital</td>\n",
       "      <td>OverDrive</td>\n",
       "      <td>AUDIOBOOK</td>\n",
       "      <td>2018</td>\n",
       "      <td>1</td>\n",
       "      <td>15</td>\n",
       "      <td>Cutting For Stone: A Novel (unabridged) (Unabr...</td>\n",
       "      <td>NaN</td>\n",
       "      <td>Abraham Verghese</td>\n",
       "      <td>Fiction, Literature</td>\n",
       "      <td>Books on Tape</td>\n",
       "      <td>2009</td>\n",
       "    </tr>\n",
       "    <tr>\n",
       "      <th>9960</th>\n",
       "      <td>Digital</td>\n",
       "      <td>OverDrive</td>\n",
       "      <td>AUDIOBOOK</td>\n",
       "      <td>2018</td>\n",
       "      <td>1</td>\n",
       "      <td>3</td>\n",
       "      <td>Diana: Her True Story in Her Own Words (unabri...</td>\n",
       "      <td>NaN</td>\n",
       "      <td>Andrew Morton</td>\n",
       "      <td>Biography &amp; Autobiography, Nonfiction</td>\n",
       "      <td>Simon &amp; Schuster - All Library</td>\n",
       "      <td>2017</td>\n",
       "    </tr>\n",
       "    <tr>\n",
       "      <th>9963</th>\n",
       "      <td>Digital</td>\n",
       "      <td>OverDrive</td>\n",
       "      <td>AUDIOBOOK</td>\n",
       "      <td>2018</td>\n",
       "      <td>1</td>\n",
       "      <td>1</td>\n",
       "      <td>Forever: The Wolves of Mercy Falls Trilogy, Bo...</td>\n",
       "      <td>NaN</td>\n",
       "      <td>Maggie Stiefvater</td>\n",
       "      <td>Fantasy, Romance, Young Adult Fiction</td>\n",
       "      <td>Scholastic Inc. Audiobooks</td>\n",
       "      <td>2011</td>\n",
       "    </tr>\n",
       "    <tr>\n",
       "      <th>9965</th>\n",
       "      <td>Digital</td>\n",
       "      <td>OverDrive</td>\n",
       "      <td>AUDIOBOOK</td>\n",
       "      <td>2018</td>\n",
       "      <td>1</td>\n",
       "      <td>2</td>\n",
       "      <td>The Hidden Brain: How Our Unconscious Minds El...</td>\n",
       "      <td>NaN</td>\n",
       "      <td>Shankar Vedantam</td>\n",
       "      <td>Nonfiction, Sociology</td>\n",
       "      <td>Books on Tape</td>\n",
       "      <td>2010</td>\n",
       "    </tr>\n",
       "  </tbody>\n",
       "</table>\n",
       "<p>857 rows × 12 columns</p>\n",
       "</div>"
      ],
      "text/plain": [
       "     usageclass checkouttype materialtype  checkoutyear  checkoutmonth  \\\n",
       "9       Digital    OverDrive    AUDIOBOOK          2018              2   \n",
       "12      Digital    OverDrive    AUDIOBOOK          2018              2   \n",
       "14      Digital    OverDrive    AUDIOBOOK          2018              2   \n",
       "16      Digital    OverDrive    AUDIOBOOK          2018              2   \n",
       "39      Digital    OverDrive    AUDIOBOOK          2018              4   \n",
       "...         ...          ...          ...           ...            ...   \n",
       "9938    Digital    OverDrive    AUDIOBOOK          2018              1   \n",
       "9939    Digital    OverDrive    AUDIOBOOK          2018              1   \n",
       "9960    Digital    OverDrive    AUDIOBOOK          2018              1   \n",
       "9963    Digital    OverDrive    AUDIOBOOK          2018              1   \n",
       "9965    Digital    OverDrive    AUDIOBOOK          2018              1   \n",
       "\n",
       "      checkouts                                              title  isbn  \\\n",
       "9             1                             Cleopatra (Unabridged)   NaN   \n",
       "12           20                               Matilda (Unabridged)   NaN   \n",
       "14            4                    The Power of Sleep (Unabridged)   NaN   \n",
       "16            3                      Phantom Instinct (Unabridged)   NaN   \n",
       "39            1                            The Vaults (Unabridged)   NaN   \n",
       "...         ...                                                ...   ...   \n",
       "9938          7  Legacy of Ashes: The History of the CIA (unabr...   NaN   \n",
       "9939         15  Cutting For Stone: A Novel (unabridged) (Unabr...   NaN   \n",
       "9960          3  Diana: Her True Story in Her Own Words (unabri...   NaN   \n",
       "9963          1  Forever: The Wolves of Mercy Falls Trilogy, Bo...   NaN   \n",
       "9965          2  The Hidden Brain: How Our Unconscious Minds El...   NaN   \n",
       "\n",
       "                creator                               subjects  \\\n",
       "9      H. Rider Haggard                    Fiction, Literature   \n",
       "12           Roald Dahl              Fantasy, Juvenile Fiction   \n",
       "14         Kelly Howell           Nonfiction, Self-Improvement   \n",
       "16         Meg Gardiner                       Fiction, Mystery   \n",
       "39            Toby Ball                       Fiction, Mystery   \n",
       "...                 ...                                    ...   \n",
       "9938         Tim Weiner                    History, Nonfiction   \n",
       "9939   Abraham Verghese                    Fiction, Literature   \n",
       "9960      Andrew Morton  Biography & Autobiography, Nonfiction   \n",
       "9963  Maggie Stiefvater  Fantasy, Romance, Young Adult Fiction   \n",
       "9965   Shankar Vedantam                  Nonfiction, Sociology   \n",
       "\n",
       "                           publisher publicationyear  \n",
       "9             Blackstone Audio, Inc.            2008  \n",
       "12                     Books on Tape            2014  \n",
       "14                     Books on Tape            2008  \n",
       "16            Blackstone Audio, Inc.            2014  \n",
       "39                      Iambik Audio            2014  \n",
       "...                              ...             ...  \n",
       "9938          Blackstone Audio, Inc.            2007  \n",
       "9939                   Books on Tape            2009  \n",
       "9960  Simon & Schuster - All Library            2017  \n",
       "9963      Scholastic Inc. Audiobooks            2011  \n",
       "9965                   Books on Tape            2010  \n",
       "\n",
       "[857 rows x 12 columns]"
      ]
     },
     "execution_count": 13,
     "metadata": {},
     "output_type": "execute_result"
    }
   ],
   "source": [
    "checkouts_df[checkouts_df[\"materialtype\"] == \"AUDIOBOOK\"]"
   ]
  },
  {
   "cell_type": "code",
   "execution_count": 14,
   "id": "82ccb98b",
   "metadata": {},
   "outputs": [],
   "source": [
    "checkouts_audiobooks_df = checkouts_df[checkouts_df[\"materialtype\"] == \"AUDIOBOOK\"]"
   ]
  },
  {
   "cell_type": "code",
   "execution_count": 15,
   "id": "0ac7c743",
   "metadata": {},
   "outputs": [
    {
     "data": {
      "text/plain": [
       "(857, 12)"
      ]
     },
     "execution_count": 15,
     "metadata": {},
     "output_type": "execute_result"
    }
   ],
   "source": [
    "checkouts_audiobooks_df.shape"
   ]
  },
  {
   "cell_type": "code",
   "execution_count": 16,
   "id": "afb81111",
   "metadata": {},
   "outputs": [],
   "source": [
    "checkouts_audiobooks_df.to_csv(\"checkout_audio_books_only.csv\")"
   ]
  },
  {
   "cell_type": "code",
   "execution_count": 17,
   "id": "6d49b0b8",
   "metadata": {},
   "outputs": [],
   "source": [
    "checkouts_audiobooks_df.to_excel(\"checkout_audio_books_only.xlsx\")"
   ]
  },
  {
   "cell_type": "code",
   "execution_count": 18,
   "id": "6556ac35",
   "metadata": {},
   "outputs": [
    {
     "data": {
      "text/plain": [
       "BOOK                    4268\n",
       "EBOOK                   2084\n",
       "AUDIOBOOK                857\n",
       "SOUNDDISC                839\n",
       "VIDEODISC                806\n",
       "SONG                     707\n",
       "MUSIC                    139\n",
       "MOVIE                     94\n",
       "TELEVISION                85\n",
       "COMIC                     62\n",
       "SOUNDDISC, VIDEODISC      10\n",
       "MAGAZINE                  10\n",
       "SOUNDREC                   8\n",
       "REGPRINT                   7\n",
       "VIDEO                      5\n",
       "CR                         4\n",
       "ER, SOUNDDISC              3\n",
       "ER                         3\n",
       "MAP                        3\n",
       "ATLAS                      2\n",
       "LARGEPRINT                 1\n",
       "VIDEOCASS, VIDEODISC       1\n",
       "SOUNDCASS                  1\n",
       "ER, VIDEODISC              1\n",
       "Name: materialtype, dtype: int64"
      ]
     },
     "execution_count": 18,
     "metadata": {},
     "output_type": "execute_result"
    }
   ],
   "source": [
    "checkouts_df[\"materialtype\"].value_counts()"
   ]
  },
  {
   "cell_type": "code",
   "execution_count": 19,
   "id": "65df857f",
   "metadata": {},
   "outputs": [],
   "source": [
    "%matplotlib inline"
   ]
  },
  {
   "cell_type": "code",
   "execution_count": 20,
   "id": "eaadb8a9",
   "metadata": {},
   "outputs": [
    {
     "data": {
      "text/plain": [
       "<AxesSubplot:>"
      ]
     },
     "execution_count": 20,
     "metadata": {},
     "output_type": "execute_result"
    },
    {
     "data": {
      "image/png": "[encoded data removed]",
      "text/plain": [
       "<Figure size 432x288 with 1 Axes>"
      ]
     },
     "metadata": {
      "needs_background": "light"
     },
     "output_type": "display_data"
    }
   ],
   "source": [
    "checkouts_df[\"materialtype\"].value_counts().plot(kind=\"bar\")"
   ]
  },
  {
   "cell_type": "code",
   "execution_count": 21,
   "id": "d1c171ef",
   "metadata": {},
   "outputs": [
    {
     "data": {
      "text/plain": [
       "<AxesSubplot:>"
      ]
     },
     "execution_count": 21,
     "metadata": {},
     "output_type": "execute_result"
    },
    {
     "data": {
      "image/png": "[encoded data removed]",
      "text/plain": [
       "<Figure size 432x288 with 1 Axes>"
      ]
     },
     "metadata": {
      "needs_background": "light"
     },
     "output_type": "display_data"
    }
   ],
   "source": [
    "checkouts_df[\"materialtype\"].value_counts().plot(kind=\"barh\")"
   ]
  },
  {
   "cell_type": "code",
   "execution_count": 22,
   "id": "fd675416",
   "metadata": {},
   "outputs": [
    {
     "data": {
      "text/plain": [
       "<AxesSubplot:>"
      ]
     },
     "execution_count": 22,
     "metadata": {},
     "output_type": "execute_result"
    },
    {
     "data": {
      "image/png": "[encoded data removed]",
      "text/plain": [
       "<Figure size 432x288 with 1 Axes>"
      ]
     },
     "metadata": {
      "needs_background": "light"
     },
     "output_type": "display_data"
    }
   ],
   "source": [
    "checkouts_df[\"checkouts\"].hist()"
   ]
  },
  {
   "cell_type": "code",
   "execution_count": 23,
   "id": "cc7bb2bf",
   "metadata": {},
   "outputs": [
    {
     "data": {
      "text/plain": [
       "<AxesSubplot:>"
      ]
     },
     "execution_count": 23,
     "metadata": {},
     "output_type": "execute_result"
    },
    {
     "data": {
      "image/png": "[encoded data removed]",
      "text/plain": [
       "<Figure size 432x288 with 1 Axes>"
      ]
     },
     "metadata": {
      "needs_background": "light"
     },
     "output_type": "display_data"
    }
   ],
   "source": [
    "checkouts_df[checkouts_df[\"checkouts\"] < 50 ][\"checkouts\"].hist(bins=20)"
   ]
  },
  {
   "cell_type": "markdown",
   "id": "71fbb506",
   "metadata": {},
   "source": [
    "### Meine Fragen"
   ]
  },
  {
   "cell_type": "markdown",
   "id": "44f0fe9e",
   "metadata": {},
   "source": [
    "#### Frage 1:  Wie oft liegen die Checkouts bei 20 oder darüber?"
   ]
  },
  {
   "cell_type": "code",
   "execution_count": 24,
   "id": "80953a39",
   "metadata": {},
   "outputs": [
    {
     "data": {
      "text/html": [
       "<div>\n",
       "<style scoped>\n",
       "    .dataframe tbody tr th:only-of-type {\n",
       "        vertical-align: middle;\n",
       "    }\n",
       "\n",
       "    .dataframe tbody tr th {\n",
       "        vertical-align: top;\n",
       "    }\n",
       "\n",
       "    .dataframe thead th {\n",
       "        text-align: right;\n",
       "    }\n",
       "</style>\n",
       "<table border=\"1\" class=\"dataframe\">\n",
       "  <thead>\n",
       "    <tr style=\"text-align: right;\">\n",
       "      <th></th>\n",
       "      <th>usageclass</th>\n",
       "      <th>checkouttype</th>\n",
       "      <th>materialtype</th>\n",
       "      <th>checkoutyear</th>\n",
       "      <th>checkoutmonth</th>\n",
       "      <th>checkouts</th>\n",
       "      <th>title</th>\n",
       "      <th>isbn</th>\n",
       "      <th>creator</th>\n",
       "      <th>subjects</th>\n",
       "      <th>publisher</th>\n",
       "      <th>publicationyear</th>\n",
       "    </tr>\n",
       "  </thead>\n",
       "  <tbody>\n",
       "    <tr>\n",
       "      <th>0</th>\n",
       "      <td>Digital</td>\n",
       "      <td>OverDrive</td>\n",
       "      <td>EBOOK</td>\n",
       "      <td>2018</td>\n",
       "      <td>1</td>\n",
       "      <td>22</td>\n",
       "      <td>Enemy of the State</td>\n",
       "      <td>NaN</td>\n",
       "      <td>Vince Flynn</td>\n",
       "      <td>Fiction, Literature, Thriller</td>\n",
       "      <td>Simon &amp; Schuster, Inc.</td>\n",
       "      <td>2017</td>\n",
       "    </tr>\n",
       "    <tr>\n",
       "      <th>12</th>\n",
       "      <td>Digital</td>\n",
       "      <td>OverDrive</td>\n",
       "      <td>AUDIOBOOK</td>\n",
       "      <td>2018</td>\n",
       "      <td>2</td>\n",
       "      <td>20</td>\n",
       "      <td>Matilda (Unabridged)</td>\n",
       "      <td>NaN</td>\n",
       "      <td>Roald Dahl</td>\n",
       "      <td>Fantasy, Juvenile Fiction</td>\n",
       "      <td>Books on Tape</td>\n",
       "      <td>2014</td>\n",
       "    </tr>\n",
       "    <tr>\n",
       "      <th>169</th>\n",
       "      <td>Digital</td>\n",
       "      <td>OverDrive</td>\n",
       "      <td>EBOOK</td>\n",
       "      <td>2018</td>\n",
       "      <td>1</td>\n",
       "      <td>27</td>\n",
       "      <td>The Road</td>\n",
       "      <td>NaN</td>\n",
       "      <td>Cormac McCarthy</td>\n",
       "      <td>Fiction, Literature</td>\n",
       "      <td>Random House, Inc.</td>\n",
       "      <td>2008</td>\n",
       "    </tr>\n",
       "    <tr>\n",
       "      <th>183</th>\n",
       "      <td>Digital</td>\n",
       "      <td>Hoopla</td>\n",
       "      <td>COMIC</td>\n",
       "      <td>2018</td>\n",
       "      <td>1</td>\n",
       "      <td>20</td>\n",
       "      <td>The Legend Of Zelda: Art &amp; Artifacts</td>\n",
       "      <td>NaN</td>\n",
       "      <td>NaN</td>\n",
       "      <td>Children's, Fiction</td>\n",
       "      <td>Dark Horse Comics</td>\n",
       "      <td>NaN</td>\n",
       "    </tr>\n",
       "    <tr>\n",
       "      <th>199</th>\n",
       "      <td>Digital</td>\n",
       "      <td>Zinio</td>\n",
       "      <td>MAGAZINE</td>\n",
       "      <td>2018</td>\n",
       "      <td>1</td>\n",
       "      <td>49</td>\n",
       "      <td>Family Circle</td>\n",
       "      <td>NaN</td>\n",
       "      <td>NaN</td>\n",
       "      <td>NaN</td>\n",
       "      <td>NaN</td>\n",
       "      <td>NaN</td>\n",
       "    </tr>\n",
       "    <tr>\n",
       "      <th>...</th>\n",
       "      <td>...</td>\n",
       "      <td>...</td>\n",
       "      <td>...</td>\n",
       "      <td>...</td>\n",
       "      <td>...</td>\n",
       "      <td>...</td>\n",
       "      <td>...</td>\n",
       "      <td>...</td>\n",
       "      <td>...</td>\n",
       "      <td>...</td>\n",
       "      <td>...</td>\n",
       "      <td>...</td>\n",
       "    </tr>\n",
       "    <tr>\n",
       "      <th>9732</th>\n",
       "      <td>Digital</td>\n",
       "      <td>Zinio</td>\n",
       "      <td>MAGAZINE</td>\n",
       "      <td>2018</td>\n",
       "      <td>1</td>\n",
       "      <td>26</td>\n",
       "      <td>Smithsonian Magazine</td>\n",
       "      <td>NaN</td>\n",
       "      <td>NaN</td>\n",
       "      <td>NaN</td>\n",
       "      <td>NaN</td>\n",
       "      <td>NaN</td>\n",
       "    </tr>\n",
       "    <tr>\n",
       "      <th>9783</th>\n",
       "      <td>Physical</td>\n",
       "      <td>Horizon</td>\n",
       "      <td>BOOK</td>\n",
       "      <td>2018</td>\n",
       "      <td>1</td>\n",
       "      <td>31</td>\n",
       "      <td>Harry Potter and the prisoner of Azkaban / J.K...</td>\n",
       "      <td>NaN</td>\n",
       "      <td>Rowling, J. K.</td>\n",
       "      <td>Potter Harry Fictitious character Juvenile fic...</td>\n",
       "      <td>Arthur A. Levine Books, an imprint of Scholast...</td>\n",
       "      <td>2017.</td>\n",
       "    </tr>\n",
       "    <tr>\n",
       "      <th>9791</th>\n",
       "      <td>Physical</td>\n",
       "      <td>Horizon</td>\n",
       "      <td>BOOK</td>\n",
       "      <td>2018</td>\n",
       "      <td>1</td>\n",
       "      <td>42</td>\n",
       "      <td>Squish. [No. 7], Deadly disease of doom / by J...</td>\n",
       "      <td>NaN</td>\n",
       "      <td>Holm, Jennifer L.</td>\n",
       "      <td>Amoeba Comic books strips etc, Sick Comic book...</td>\n",
       "      <td>Random House,</td>\n",
       "      <td>[2015]</td>\n",
       "    </tr>\n",
       "    <tr>\n",
       "      <th>9803</th>\n",
       "      <td>Physical</td>\n",
       "      <td>Horizon</td>\n",
       "      <td>VIDEODISC</td>\n",
       "      <td>2018</td>\n",
       "      <td>1</td>\n",
       "      <td>25</td>\n",
       "      <td>The princess bride / Metro Goldwyn Mayer ; Act...</td>\n",
       "      <td>NaN</td>\n",
       "      <td>NaN</td>\n",
       "      <td>Fairy tales Drama, Princesses Drama, Princes D...</td>\n",
       "      <td>MGM DVD : Distributed by Twentieth Century Fox...</td>\n",
       "      <td>[2007]</td>\n",
       "    </tr>\n",
       "    <tr>\n",
       "      <th>9969</th>\n",
       "      <td>Digital</td>\n",
       "      <td>Zinio</td>\n",
       "      <td>MAGAZINE</td>\n",
       "      <td>2018</td>\n",
       "      <td>1</td>\n",
       "      <td>31</td>\n",
       "      <td>Marie Claire</td>\n",
       "      <td>NaN</td>\n",
       "      <td>NaN</td>\n",
       "      <td>NaN</td>\n",
       "      <td>NaN</td>\n",
       "      <td>NaN</td>\n",
       "    </tr>\n",
       "  </tbody>\n",
       "</table>\n",
       "<p>174 rows × 12 columns</p>\n",
       "</div>"
      ],
      "text/plain": [
       "     usageclass checkouttype materialtype  checkoutyear  checkoutmonth  \\\n",
       "0       Digital    OverDrive        EBOOK          2018              1   \n",
       "12      Digital    OverDrive    AUDIOBOOK          2018              2   \n",
       "169     Digital    OverDrive        EBOOK          2018              1   \n",
       "183     Digital       Hoopla        COMIC          2018              1   \n",
       "199     Digital        Zinio     MAGAZINE          2018              1   \n",
       "...         ...          ...          ...           ...            ...   \n",
       "9732    Digital        Zinio     MAGAZINE          2018              1   \n",
       "9783   Physical      Horizon         BOOK          2018              1   \n",
       "9791   Physical      Horizon         BOOK          2018              1   \n",
       "9803   Physical      Horizon    VIDEODISC          2018              1   \n",
       "9969    Digital        Zinio     MAGAZINE          2018              1   \n",
       "\n",
       "      checkouts                                              title  isbn  \\\n",
       "0            22                                 Enemy of the State   NaN   \n",
       "12           20                               Matilda (Unabridged)   NaN   \n",
       "169          27                                           The Road   NaN   \n",
       "183          20               The Legend Of Zelda: Art & Artifacts   NaN   \n",
       "199          49                                      Family Circle   NaN   \n",
       "...         ...                                                ...   ...   \n",
       "9732         26                               Smithsonian Magazine   NaN   \n",
       "9783         31  Harry Potter and the prisoner of Azkaban / J.K...   NaN   \n",
       "9791         42  Squish. [No. 7], Deadly disease of doom / by J...   NaN   \n",
       "9803         25  The princess bride / Metro Goldwyn Mayer ; Act...   NaN   \n",
       "9969         31                                       Marie Claire   NaN   \n",
       "\n",
       "                creator                                           subjects  \\\n",
       "0           Vince Flynn                      Fiction, Literature, Thriller   \n",
       "12           Roald Dahl                          Fantasy, Juvenile Fiction   \n",
       "169     Cormac McCarthy                                Fiction, Literature   \n",
       "183                 NaN                                Children's, Fiction   \n",
       "199                 NaN                                                NaN   \n",
       "...                 ...                                                ...   \n",
       "9732                NaN                                                NaN   \n",
       "9783     Rowling, J. K.  Potter Harry Fictitious character Juvenile fic...   \n",
       "9791  Holm, Jennifer L.  Amoeba Comic books strips etc, Sick Comic book...   \n",
       "9803                NaN  Fairy tales Drama, Princesses Drama, Princes D...   \n",
       "9969                NaN                                                NaN   \n",
       "\n",
       "                                              publisher publicationyear  \n",
       "0                                Simon & Schuster, Inc.            2017  \n",
       "12                                        Books on Tape            2014  \n",
       "169                                  Random House, Inc.            2008  \n",
       "183                                   Dark Horse Comics             NaN  \n",
       "199                                                 NaN             NaN  \n",
       "...                                                 ...             ...  \n",
       "9732                                                NaN             NaN  \n",
       "9783  Arthur A. Levine Books, an imprint of Scholast...           2017.  \n",
       "9791                                      Random House,          [2015]  \n",
       "9803  MGM DVD : Distributed by Twentieth Century Fox...          [2007]  \n",
       "9969                                                NaN             NaN  \n",
       "\n",
       "[174 rows x 12 columns]"
      ]
     },
     "execution_count": 24,
     "metadata": {},
     "output_type": "execute_result"
    }
   ],
   "source": [
    "checkouts_df[checkouts_df[\"checkouts\"] >= 20]"
   ]
  },
  {
   "cell_type": "code",
   "execution_count": 25,
   "id": "2258a30e",
   "metadata": {},
   "outputs": [],
   "source": [
    "checkouts_20_and_above_df = checkouts_df[checkouts_df[\"checkouts\"] >= 20]"
   ]
  },
  {
   "cell_type": "code",
   "execution_count": 26,
   "id": "ac14fd92",
   "metadata": {},
   "outputs": [
    {
     "data": {
      "text/plain": [
       "(174, 12)"
      ]
     },
     "execution_count": 26,
     "metadata": {},
     "output_type": "execute_result"
    }
   ],
   "source": [
    "checkouts_20_and_above_df.shape"
   ]
  },
  {
   "cell_type": "markdown",
   "id": "b0d652e7",
   "metadata": {},
   "source": [
    "#### Antwort auf Frage 1: Der DataFrame weist 174 - 1 = 173 Zeilen auf. Bei 173 Einträgen liegt die Zahl der Checkouts bei 20 oder darüber."
   ]
  },
  {
   "cell_type": "markdown",
   "id": "ae352523",
   "metadata": {},
   "source": [
    "#### Frage 2: Welche Benutzungsklasse (*usageclass*) kommt häufiger vor - *Physical* oder *Digital*? Und kann dieses Ergebnis bitte in pink dargestellt werden?"
   ]
  },
  {
   "cell_type": "code",
   "execution_count": 27,
   "id": "efdcb30d",
   "metadata": {},
   "outputs": [
    {
     "data": {
      "text/plain": [
       "<AxesSubplot:>"
      ]
     },
     "execution_count": 27,
     "metadata": {},
     "output_type": "execute_result"
    },
    {
     "data": {
      "image/png": "[encoded data removed]",
      "text/plain": [
       "<Figure size 432x288 with 1 Axes>"
      ]
     },
     "metadata": {
      "needs_background": "light"
     },
     "output_type": "display_data"
    }
   ],
   "source": [
    "checkouts_df[\"usageclass\"].hist(color= \"violet\")"
   ]
  },
  {
   "cell_type": "markdown",
   "id": "7dbb73c3",
   "metadata": {},
   "source": [
    "#### Antwort auf Frage 2: *Physical* kommt häufiger vor als *Digital*, d. h. es wurden mehr physische als digitale Objekt entliehen. Und die Darstellung des Ergebnisses ist pink."
   ]
  },
  {
   "cell_type": "markdown",
   "id": "d2627f07",
   "metadata": {},
   "source": [
    "#### Frage 3: Wie sieht die Verteilung der Checkouts pro Monat in diesem DataFrame aus?"
   ]
  },
  {
   "cell_type": "code",
   "execution_count": 28,
   "id": "a28f28e1",
   "metadata": {},
   "outputs": [
    {
     "data": {
      "text/plain": [
       "1     9930\n",
       "12      27\n",
       "3       19\n",
       "2       12\n",
       "8        3\n",
       "4        2\n",
       "5        2\n",
       "9        2\n",
       "11       2\n",
       "10       1\n",
       "Name: checkoutmonth, dtype: int64"
      ]
     },
     "execution_count": 28,
     "metadata": {},
     "output_type": "execute_result"
    }
   ],
   "source": [
    "checkouts_df[\"checkoutmonth\"].value_counts()"
   ]
  },
  {
   "cell_type": "markdown",
   "id": "0d2c9320",
   "metadata": {},
   "source": [
    "#### Ok, das sind etwas viele bei 1 (Januar), um ein gutes Histogramm daraus zu machen... "
   ]
  },
  {
   "cell_type": "code",
   "execution_count": 29,
   "id": "7d16a67e",
   "metadata": {
    "scrolled": true
   },
   "outputs": [
    {
     "data": {
      "text/plain": [
       "<AxesSubplot:>"
      ]
     },
     "execution_count": 29,
     "metadata": {},
     "output_type": "execute_result"
    },
    {
     "data": {
      "image/png": "[encoded data removed]",
      "text/plain": [
       "<Figure size 432x288 with 1 Axes>"
      ]
     },
     "metadata": {
      "needs_background": "light"
     },
     "output_type": "display_data"
    }
   ],
   "source": [
    "checkouts_df[\"checkoutmonth\"].hist(bins=20)"
   ]
  },
  {
   "cell_type": "markdown",
   "id": "eabbe45b",
   "metadata": {},
   "source": [
    "#### Frage 3.1: Dann schauen wir uns besser die verschiedenen Arten der Checkouts an. Welche Arten gibt es und wie sind sie verteilt?"
   ]
  },
  {
   "cell_type": "code",
   "execution_count": 32,
   "id": "21ef40e3",
   "metadata": {},
   "outputs": [
    {
     "data": {
      "text/plain": [
       "Horizon      5979\n",
       "OverDrive    2946\n",
       "Freegal       707\n",
       "Hoopla        358\n",
       "Zinio          10\n",
       "Name: checkouttype, dtype: int64"
      ]
     },
     "execution_count": 32,
     "metadata": {},
     "output_type": "execute_result"
    }
   ],
   "source": [
    "checkouts_df[\"checkouttype\"].value_counts()"
   ]
  },
  {
   "cell_type": "code",
   "execution_count": 33,
   "id": "c6f3ab6a",
   "metadata": {},
   "outputs": [
    {
     "data": {
      "text/plain": [
       "<AxesSubplot:>"
      ]
     },
     "execution_count": 33,
     "metadata": {},
     "output_type": "execute_result"
    },
    {
     "data": {
      "image/png": "[encoded data removed]",
      "text/plain": [
       "<Figure size 432x288 with 1 Axes>"
      ]
     },
     "metadata": {
      "needs_background": "light"
     },
     "output_type": "display_data"
    }
   ],
   "source": [
    "checkouts_df[\"checkouttype\"].hist(bins=20)"
   ]
  },
  {
   "cell_type": "markdown",
   "id": "044a84c8",
   "metadata": {},
   "source": [
    "#### Antwort auf Frage 3.1: Es gibt fünf verschiedene Arten von Checkouts. Am häufigsten kommt \"Horizon\" vor, gefolgt von \"OverDrive\"."
   ]
  },
  {
   "cell_type": "code",
   "execution_count": null,
   "id": "05715e60",
   "metadata": {},
   "outputs": [],
   "source": []
  }
 ],
 "metadata": {
  "kernelspec": {
   "display_name": "Python 3 (ipykernel)",
   "language": "python",
   "name": "python3"
  },
  "language_info": {
   "codemirror_mode": {
    "name": "ipython",
    "version": 3
   },
   "file_extension": ".py",
   "mimetype": "text/x-python",
   "name": "python",
   "nbconvert_exporter": "python",
   "pygments_lexer": "ipython3",
   "version": "3.9.7"
  }
 },
 "nbformat": 4,
 "nbformat_minor": 5
}
